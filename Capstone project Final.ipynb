{
 "cells": [
  {
   "cell_type": "markdown",
   "metadata": {},
   "source": [
    "# Capstone project"
   ]
  },
  {
   "cell_type": "markdown",
   "metadata": {},
   "source": [
    "## Introduction"
   ]
  },
  {
   "cell_type": "markdown",
   "metadata": {},
   "source": [
    "Have you ever wonderd what a life with no crimes will feel like ?\n",
    "\n",
    "The Crime rate have been growing rapidly in the last years, making the work of the police officers much harder. Imagine the time spent to surveillance areas, Investigate crimes and understand the crimnal behaviour. We live in a world where technology solves many of our problems.\n",
    "\n",
    "In this project I will be helping the Denvur police department in analysing previous crimes with the venues that srounded the areas where they occured. This analysis will assist them in predicting new crimes according to the time and location of previous crimes, and how will the type of venues surrounding crime areas affect thier number. \n",
    "\n",
    "The crime analysis will not only help the police officers in understanding the criminal behaviour, it will also help in targating the areas where crimes most probably will occur, saving the time and effort of the police officers."
   ]
  },
  {
   "cell_type": "markdown",
   "metadata": {},
   "source": [
    "## Data "
   ]
  },
  {
   "cell_type": "markdown",
   "metadata": {},
   "source": [
    "Two datasets will be used in the project:\n",
    "<ul>\n",
    "    <li> A dataset from Kaggle that contains historical data of Denvur's city crimes (offense type, offense category, first occurance, incident address, longitude, latitude, Nighborhood) </li>\n",
    "    <li>Dataset extracted using the Forsquare Api. Using the nighborhood from the crime dataset, a set of venues will be extracted (Arts and Entertainment, Fitness Center, Food, Medical Center, Nightlife Spot ,and Shop and Service)</li>\n",
    "\n",
    "</ul>"
   ]
  }
 ],
 "metadata": {
  "kernelspec": {
   "display_name": "Python 3",
   "language": "python",
   "name": "python3"
  },
  "language_info": {
   "codemirror_mode": {
    "name": "ipython",
    "version": 3
   },
   "file_extension": ".py",
   "mimetype": "text/x-python",
   "name": "python",
   "nbconvert_exporter": "python",
   "pygments_lexer": "ipython3",
   "version": "3.8.5"
  }
 },
 "nbformat": 4,
 "nbformat_minor": 4
}
